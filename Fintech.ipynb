{
 "cells": [
  {
   "cell_type": "code",
   "execution_count": 1,
   "id": "7842cca7-f24d-4b75-be57-ec8ed7a27050",
   "metadata": {},
   "outputs": [],
   "source": [
    "import yfinance as yf\n",
    "import pandas as pd\n",
    "import numpy as np"
   ]
  },
  {
   "cell_type": "markdown",
   "id": "f9fecf56-f0bf-4086-97d1-64b8bde7ddc6",
   "metadata": {},
   "source": [
    "# Part 1. Electronic Arts\n",
    "There will be 3 parts in total: Electronic Arts (first company), Paradox Interactive (second company), Portfolio analysis of both companies"
   ]
  },
  {
   "cell_type": "code",
   "execution_count": 3,
   "id": "6102a2c1-4f0c-441f-bc5a-b351e538ac02",
   "metadata": {},
   "outputs": [
    {
     "name": "stdout",
     "output_type": "stream",
     "text": [
      "YF.download() has changed argument auto_adjust default to True\n"
     ]
    },
    {
     "name": "stderr",
     "output_type": "stream",
     "text": [
      "[*********************100%***********************]  1 of 1 completed\n"
     ]
    },
    {
     "data": {
      "text/html": [
       "<div>\n",
       "<style scoped>\n",
       "    .dataframe tbody tr th:only-of-type {\n",
       "        vertical-align: middle;\n",
       "    }\n",
       "\n",
       "    .dataframe tbody tr th {\n",
       "        vertical-align: top;\n",
       "    }\n",
       "\n",
       "    .dataframe thead tr th {\n",
       "        text-align: left;\n",
       "    }\n",
       "\n",
       "    .dataframe thead tr:last-of-type th {\n",
       "        text-align: right;\n",
       "    }\n",
       "</style>\n",
       "<table border=\"1\" class=\"dataframe\">\n",
       "  <thead>\n",
       "    <tr>\n",
       "      <th>Price</th>\n",
       "      <th>Close</th>\n",
       "      <th>High</th>\n",
       "      <th>Low</th>\n",
       "      <th>Open</th>\n",
       "      <th>Volume</th>\n",
       "    </tr>\n",
       "    <tr>\n",
       "      <th>Ticker</th>\n",
       "      <th>EA</th>\n",
       "      <th>EA</th>\n",
       "      <th>EA</th>\n",
       "      <th>EA</th>\n",
       "      <th>EA</th>\n",
       "    </tr>\n",
       "    <tr>\n",
       "      <th>Date</th>\n",
       "      <th></th>\n",
       "      <th></th>\n",
       "      <th></th>\n",
       "      <th></th>\n",
       "      <th></th>\n",
       "    </tr>\n",
       "  </thead>\n",
       "  <tbody>\n",
       "    <tr>\n",
       "      <th>2025-04-07</th>\n",
       "      <td>134.619995</td>\n",
       "      <td>136.750000</td>\n",
       "      <td>131.149994</td>\n",
       "      <td>132.960007</td>\n",
       "      <td>5825100</td>\n",
       "    </tr>\n",
       "    <tr>\n",
       "      <th>2025-04-08</th>\n",
       "      <td>132.529999</td>\n",
       "      <td>136.830002</td>\n",
       "      <td>131.160004</td>\n",
       "      <td>135.259995</td>\n",
       "      <td>3425700</td>\n",
       "    </tr>\n",
       "    <tr>\n",
       "      <th>2025-04-09</th>\n",
       "      <td>136.580002</td>\n",
       "      <td>140.589996</td>\n",
       "      <td>131.809998</td>\n",
       "      <td>131.839996</td>\n",
       "      <td>5410100</td>\n",
       "    </tr>\n",
       "    <tr>\n",
       "      <th>2025-04-10</th>\n",
       "      <td>139.389999</td>\n",
       "      <td>141.289993</td>\n",
       "      <td>135.429993</td>\n",
       "      <td>136.169998</td>\n",
       "      <td>3840900</td>\n",
       "    </tr>\n",
       "    <tr>\n",
       "      <th>2025-04-11</th>\n",
       "      <td>142.929993</td>\n",
       "      <td>143.440002</td>\n",
       "      <td>137.940002</td>\n",
       "      <td>139.389999</td>\n",
       "      <td>3116900</td>\n",
       "    </tr>\n",
       "    <tr>\n",
       "      <th>2025-04-14</th>\n",
       "      <td>145.500000</td>\n",
       "      <td>146.210007</td>\n",
       "      <td>142.509995</td>\n",
       "      <td>143.160004</td>\n",
       "      <td>2600400</td>\n",
       "    </tr>\n",
       "    <tr>\n",
       "      <th>2025-04-15</th>\n",
       "      <td>145.610001</td>\n",
       "      <td>146.289993</td>\n",
       "      <td>144.490005</td>\n",
       "      <td>145.660004</td>\n",
       "      <td>2277500</td>\n",
       "    </tr>\n",
       "    <tr>\n",
       "      <th>2025-04-16</th>\n",
       "      <td>142.970001</td>\n",
       "      <td>145.779999</td>\n",
       "      <td>142.690002</td>\n",
       "      <td>145.490005</td>\n",
       "      <td>2215800</td>\n",
       "    </tr>\n",
       "    <tr>\n",
       "      <th>2025-04-17</th>\n",
       "      <td>145.610001</td>\n",
       "      <td>146.089996</td>\n",
       "      <td>142.970001</td>\n",
       "      <td>143.270004</td>\n",
       "      <td>1761900</td>\n",
       "    </tr>\n",
       "    <tr>\n",
       "      <th>2025-04-21</th>\n",
       "      <td>141.929993</td>\n",
       "      <td>145.020004</td>\n",
       "      <td>141.039993</td>\n",
       "      <td>145.020004</td>\n",
       "      <td>2712300</td>\n",
       "    </tr>\n",
       "  </tbody>\n",
       "</table>\n",
       "</div>"
      ],
      "text/plain": [
       "Price            Close        High         Low        Open   Volume\n",
       "Ticker              EA          EA          EA          EA       EA\n",
       "Date                                                               \n",
       "2025-04-07  134.619995  136.750000  131.149994  132.960007  5825100\n",
       "2025-04-08  132.529999  136.830002  131.160004  135.259995  3425700\n",
       "2025-04-09  136.580002  140.589996  131.809998  131.839996  5410100\n",
       "2025-04-10  139.389999  141.289993  135.429993  136.169998  3840900\n",
       "2025-04-11  142.929993  143.440002  137.940002  139.389999  3116900\n",
       "2025-04-14  145.500000  146.210007  142.509995  143.160004  2600400\n",
       "2025-04-15  145.610001  146.289993  144.490005  145.660004  2277500\n",
       "2025-04-16  142.970001  145.779999  142.690002  145.490005  2215800\n",
       "2025-04-17  145.610001  146.089996  142.970001  143.270004  1761900\n",
       "2025-04-21  141.929993  145.020004  141.039993  145.020004  2712300"
      ]
     },
     "execution_count": 3,
     "metadata": {},
     "output_type": "execute_result"
    }
   ],
   "source": [
    "name = 'EA'\n",
    "ea_stock = yf.download(name, start='2020-04-22', end='2025-04-22')\n",
    "\n",
    "company = yf.Ticker(name)\n",
    "balance_sheet = company.balance_sheet\n",
    "statement = company.financials\n",
    "\n",
    "ea_data = pd.DataFrame(ea_stock)\n",
    "ea_data.tail(10)"
   ]
  },
  {
   "cell_type": "markdown",
   "id": "0fb5680d-4b32-4cf9-987f-04a05cdfb8bd",
   "metadata": {},
   "source": [
    "# P/E and P/B ratio calculation"
   ]
  },
  {
   "cell_type": "code",
   "execution_count": 5,
   "id": "23a490c7-b8c4-4cc6-85f4-f923f241948a",
   "metadata": {},
   "outputs": [
    {
     "name": "stdout",
     "output_type": "stream",
     "text": [
      "P/E ratio for EA is: 29.699237734999205\n",
      "P/B ratio for EA is: 4.923400882627014\n"
     ]
    },
    {
     "data": {
      "text/html": [
       "<div>\n",
       "<style scoped>\n",
       "    .dataframe tbody tr th:only-of-type {\n",
       "        vertical-align: middle;\n",
       "    }\n",
       "\n",
       "    .dataframe tbody tr th {\n",
       "        vertical-align: top;\n",
       "    }\n",
       "\n",
       "    .dataframe thead tr th {\n",
       "        text-align: left;\n",
       "    }\n",
       "\n",
       "    .dataframe thead tr:last-of-type th {\n",
       "        text-align: right;\n",
       "    }\n",
       "</style>\n",
       "<table border=\"1\" class=\"dataframe\">\n",
       "  <thead>\n",
       "    <tr>\n",
       "      <th>Price</th>\n",
       "      <th>Close</th>\n",
       "      <th>High</th>\n",
       "      <th>Low</th>\n",
       "      <th>Open</th>\n",
       "      <th>Volume</th>\n",
       "      <th>P/B ratio</th>\n",
       "      <th>P/E ratio</th>\n",
       "    </tr>\n",
       "    <tr>\n",
       "      <th>Ticker</th>\n",
       "      <th>EA</th>\n",
       "      <th>EA</th>\n",
       "      <th>EA</th>\n",
       "      <th>EA</th>\n",
       "      <th>EA</th>\n",
       "      <th></th>\n",
       "      <th></th>\n",
       "    </tr>\n",
       "    <tr>\n",
       "      <th>Date</th>\n",
       "      <th></th>\n",
       "      <th></th>\n",
       "      <th></th>\n",
       "      <th></th>\n",
       "      <th></th>\n",
       "      <th></th>\n",
       "      <th></th>\n",
       "    </tr>\n",
       "  </thead>\n",
       "  <tbody>\n",
       "    <tr>\n",
       "      <th>2025-04-14</th>\n",
       "      <td>145.500000</td>\n",
       "      <td>146.210007</td>\n",
       "      <td>142.509995</td>\n",
       "      <td>143.160004</td>\n",
       "      <td>2600400</td>\n",
       "      <td>5.047241</td>\n",
       "      <td>30.446271</td>\n",
       "    </tr>\n",
       "    <tr>\n",
       "      <th>2025-04-15</th>\n",
       "      <td>145.610001</td>\n",
       "      <td>146.289993</td>\n",
       "      <td>144.490005</td>\n",
       "      <td>145.660004</td>\n",
       "      <td>2277500</td>\n",
       "      <td>5.051056</td>\n",
       "      <td>30.469289</td>\n",
       "    </tr>\n",
       "    <tr>\n",
       "      <th>2025-04-16</th>\n",
       "      <td>142.970001</td>\n",
       "      <td>145.779999</td>\n",
       "      <td>142.690002</td>\n",
       "      <td>145.490005</td>\n",
       "      <td>2215800</td>\n",
       "      <td>4.959478</td>\n",
       "      <td>29.916862</td>\n",
       "    </tr>\n",
       "    <tr>\n",
       "      <th>2025-04-17</th>\n",
       "      <td>145.610001</td>\n",
       "      <td>146.089996</td>\n",
       "      <td>142.970001</td>\n",
       "      <td>143.270004</td>\n",
       "      <td>1761900</td>\n",
       "      <td>5.051056</td>\n",
       "      <td>30.469289</td>\n",
       "    </tr>\n",
       "    <tr>\n",
       "      <th>2025-04-21</th>\n",
       "      <td>141.929993</td>\n",
       "      <td>145.020004</td>\n",
       "      <td>141.039993</td>\n",
       "      <td>145.020004</td>\n",
       "      <td>2712300</td>\n",
       "      <td>4.923401</td>\n",
       "      <td>29.699238</td>\n",
       "    </tr>\n",
       "  </tbody>\n",
       "</table>\n",
       "</div>"
      ],
      "text/plain": [
       "Price            Close        High         Low        Open   Volume P/B ratio  \\\n",
       "Ticker              EA          EA          EA          EA       EA             \n",
       "Date                                                                            \n",
       "2025-04-14  145.500000  146.210007  142.509995  143.160004  2600400  5.047241   \n",
       "2025-04-15  145.610001  146.289993  144.490005  145.660004  2277500  5.051056   \n",
       "2025-04-16  142.970001  145.779999  142.690002  145.490005  2215800  4.959478   \n",
       "2025-04-17  145.610001  146.089996  142.970001  143.270004  1761900  5.051056   \n",
       "2025-04-21  141.929993  145.020004  141.039993  145.020004  2712300  4.923401   \n",
       "\n",
       "Price       P/E ratio  \n",
       "Ticker                 \n",
       "Date                   \n",
       "2025-04-14  30.446271  \n",
       "2025-04-15  30.469289  \n",
       "2025-04-16  29.916862  \n",
       "2025-04-17  30.469289  \n",
       "2025-04-21  29.699238  "
      ]
     },
     "execution_count": 5,
     "metadata": {},
     "output_type": "execute_result"
    }
   ],
   "source": [
    "net_income = statement.loc['Net Income'].iloc[0]\n",
    "share = balance_sheet.loc['Share Issued'].iloc[0]\n",
    "\n",
    "earning_per_share = net_income / share\n",
    "price_per_share = ea_stock['Close']\n",
    "\n",
    "P_E_ratio = price_per_share / earning_per_share\n",
    "\n",
    "book_value = balance_sheet.loc['Total Assets'].iloc[0] - balance_sheet.loc['Total Liabilities Net Minority Interest'].iloc[0]\n",
    "shares_outstanding = company.info['sharesOutstanding']\n",
    "book_value_per_share = book_value / shares_outstanding\n",
    "\n",
    "P_B_ratio = price_per_share / book_value_per_share\n",
    "\n",
    "ea_data['P/B ratio'] = P_B_ratio['EA']\n",
    "ea_data['P/E ratio'] = P_E_ratio['EA']\n",
    "\n",
    "\n",
    "print('P/E ratio for EA is: ' + str(P_E_ratio['EA'].iloc[-1]))\n",
    "print('P/B ratio for EA is: ' + str(P_B_ratio['EA'].iloc[-1]))\n",
    "\n",
    "ea_data.tail(5)"
   ]
  },
  {
   "cell_type": "markdown",
   "id": "b3d79c60-5551-4bed-9b2d-11e082639b4e",
   "metadata": {},
   "source": [
    "#### Comparison with historical observations"
   ]
  },
  {
   "cell_type": "code",
   "execution_count": 7,
   "id": "1a4ac015-f0db-431f-9fc2-83fad04eab4e",
   "metadata": {},
   "outputs": [
    {
     "name": "stdout",
     "output_type": "stream",
     "text": [
      "Historical mean: 27.46890625806561\n",
      "P/E ratio: 29.699237734999205\n"
     ]
    }
   ],
   "source": [
    "print('Historical mean: ' + str(P_E_ratio['EA'][0::].mean()))\n",
    "print('P/E ratio: ' + str(P_E_ratio['EA'].iloc[-1]))"
   ]
  },
  {
   "cell_type": "markdown",
   "id": "ce853a0c-ace5-4de4-ae06-2cf6e94a352c",
   "metadata": {},
   "source": [
    "According to P/E, company is overvalued to fairly valued (~8 percent difference)"
   ]
  },
  {
   "cell_type": "code",
   "execution_count": 9,
   "id": "58eb1082-4b38-42a7-a996-45693167c932",
   "metadata": {},
   "outputs": [
    {
     "name": "stdout",
     "output_type": "stream",
     "text": [
      "Historical mean: 4.553666950057247\n",
      "P/B ratio: 4.923400882627014\n"
     ]
    }
   ],
   "source": [
    "print('Historical mean: ' + str(P_B_ratio['EA'][0::].mean()))\n",
    "print('P/B ratio: ' + str(P_B_ratio['EA'].iloc[-1]))"
   ]
  },
  {
   "cell_type": "markdown",
   "id": "f8ebf113-43d1-4ec9-b733-77d078d4ac3c",
   "metadata": {},
   "source": [
    "Almost the same 8 percentage difference. Therefore, according to P/B, company is overvalued to fairly valued"
   ]
  },
  {
   "cell_type": "markdown",
   "id": "fc204414-0c14-4f4d-a200-93b2f3b4fed8",
   "metadata": {},
   "source": [
    "# Discounted Cash Flow"
   ]
  },
  {
   "cell_type": "markdown",
   "id": "3004a519-34bd-461b-9395-33213d68f45b",
   "metadata": {},
   "source": [
    "#### Getting Free Cash Flow"
   ]
  },
  {
   "cell_type": "code",
   "execution_count": 13,
   "id": "1b0d1789-a378-4bdd-b4c3-ea7a8bca3b89",
   "metadata": {},
   "outputs": [],
   "source": [
    "cash_flow = company.cashflow\n",
    "operating_cash_flow = cash_flow.loc['Operating Cash Flow', '2024']\n",
    "operating_cash_flow = operating_cash_flow.iloc[0]\n",
    "capital_expenditures = cash_flow.loc['Capital Expenditure', '2024']\n",
    "capital_expenditures = capital_expenditures.iloc[0]\n",
    "free_cash_flow = operating_cash_flow + capital_expenditures  \n",
    "shares_outstanding = company.info['sharesOutstanding']"
   ]
  },
  {
   "cell_type": "markdown",
   "id": "6cd92820-8cbf-4981-9ca1-d373be565443",
   "metadata": {},
   "source": [
    "#### WACC for getting discount rate for DCF"
   ]
  },
  {
   "cell_type": "code",
   "execution_count": 15,
   "id": "8b296230-4963-4e8f-929b-5788132ce241",
   "metadata": {},
   "outputs": [],
   "source": [
    "#Assumptions\n",
    "risk_free_rate = 0.04 # US Treasury Yield https://home.treasury.gov/resource-center/data-chart-center/interest-rates/TextView?type=daily_treasury_yield_curve&field_tdr_date_value=2025\n",
    "market_return = 0.10 # Long-term average market return (S&P 500)\n",
    "tax_rate = 0.21 #Standard tax rate\n",
    "\n",
    "#Getting cost of debt\n",
    "interest_expense = statement.loc[\"Interest Expense\"]\n",
    "total_debt = balance_sheet.loc[\"Total Debt\"]\n",
    "after_tax_cost_of_debt = interest_expense / total_debt * (1 - tax_rate)\n",
    "cost_of_debt = after_tax_cost_of_debt.iloc[0]\n",
    "\n",
    "equity_risk_premium = market_return - risk_free_rate\n",
    "beta = company.info.get(\"beta\", 1.0)\n",
    "cost_of_equity = risk_free_rate + beta * equity_risk_premium\n",
    "\n",
    "market_cap = company.info.get(\"marketCap\", 0)\n",
    "total_debt = company.info.get(\"totalDebt\", 0)\n",
    "cash = company.info.get(\"totalCash\", 0)\n",
    "enterprise_value = market_cap + total_debt - cash\n",
    "\n",
    "E = market_cap\n",
    "D = total_debt\n",
    "V = E + D\n",
    "debt_weight = D / V\n",
    "equity_weight = E / V\n",
    "\n",
    "\n",
    "wacc = (equity_weight * cost_of_equity) + (debt_weight * cost_of_debt * (1 - tax_rate))"
   ]
  },
  {
   "cell_type": "markdown",
   "id": "5c8b5336-1084-4fee-8610-5ea1e0b05e49",
   "metadata": {},
   "source": [
    "#### DCF"
   ]
  },
  {
   "cell_type": "code",
   "execution_count": 17,
   "id": "2ddbb04c-158a-4b4f-aad0-45b72a8c5a42",
   "metadata": {},
   "outputs": [
    {
     "name": "stdout",
     "output_type": "stream",
     "text": [
      "Total DCF: 50736367901.337296\n",
      "DCF per share: 194.67714394760645\n"
     ]
    }
   ],
   "source": [
    "discount_rate = wacc  \n",
    "growth_rate = 0.04 #Long term forecast from https://simplywall.st/stocks/us/media/nasdaq-ea/electronic-arts/future?utm_source=chatgpt.com\n",
    "years = 5  \n",
    "\n",
    "future_cash_flows = []\n",
    "for year in range(1, years + 1):\n",
    "    future_cash_flow_value = free_cash_flow * ((1 + growth_rate) ** year)\n",
    "    future_cash_flows.append(future_cash_flow_value)\n",
    "    \n",
    "dcf_values = []  \n",
    "for year, fcf in enumerate(future_cash_flows, start=1):\n",
    "    dcf_value = fcf / (1 + discount_rate) ** year\n",
    "    dcf_values.append(dcf_value)\n",
    "    \n",
    "dcf_values = []\n",
    "for year, fcf in enumerate(future_cash_flows, start=1):\n",
    "    discounted_fcf = fcf / (1 + discount_rate) ** year \n",
    "    dcf_values.append(discounted_fcf)\n",
    "\n",
    "terminal_value = future_cash_flows[-1] * (1 + growth_rate) / (discount_rate - growth_rate)\n",
    "discounted_terminal_value = terminal_value / (1 + discount_rate) ** years\n",
    "total_dcf = sum(dcf_values) + discounted_terminal_value\n",
    "\n",
    "# DCF per share\n",
    "dcf_per_share = total_dcf / shares_outstanding\n",
    "\n",
    "# Output the results\n",
    "print('Total DCF: ' + str(total_dcf))\n",
    "print('DCF per share: ' + str(dcf_per_share))"
   ]
  },
  {
   "cell_type": "code",
   "execution_count": 18,
   "id": "437a04bc-326a-47da-abf1-1ae608795e26",
   "metadata": {},
   "outputs": [
    {
     "data": {
      "text/html": [
       "<div>\n",
       "<style scoped>\n",
       "    .dataframe tbody tr th:only-of-type {\n",
       "        vertical-align: middle;\n",
       "    }\n",
       "\n",
       "    .dataframe tbody tr th {\n",
       "        vertical-align: top;\n",
       "    }\n",
       "\n",
       "    .dataframe thead tr th {\n",
       "        text-align: left;\n",
       "    }\n",
       "\n",
       "    .dataframe thead tr:last-of-type th {\n",
       "        text-align: right;\n",
       "    }\n",
       "</style>\n",
       "<table border=\"1\" class=\"dataframe\">\n",
       "  <thead>\n",
       "    <tr>\n",
       "      <th>Price</th>\n",
       "      <th>Close</th>\n",
       "      <th>High</th>\n",
       "      <th>Low</th>\n",
       "      <th>Open</th>\n",
       "      <th>Volume</th>\n",
       "      <th>P/B ratio</th>\n",
       "      <th>P/E ratio</th>\n",
       "    </tr>\n",
       "    <tr>\n",
       "      <th>Ticker</th>\n",
       "      <th>EA</th>\n",
       "      <th>EA</th>\n",
       "      <th>EA</th>\n",
       "      <th>EA</th>\n",
       "      <th>EA</th>\n",
       "      <th></th>\n",
       "      <th></th>\n",
       "    </tr>\n",
       "    <tr>\n",
       "      <th>Date</th>\n",
       "      <th></th>\n",
       "      <th></th>\n",
       "      <th></th>\n",
       "      <th></th>\n",
       "      <th></th>\n",
       "      <th></th>\n",
       "      <th></th>\n",
       "    </tr>\n",
       "  </thead>\n",
       "  <tbody>\n",
       "    <tr>\n",
       "      <th>2025-04-14</th>\n",
       "      <td>145.500000</td>\n",
       "      <td>146.210007</td>\n",
       "      <td>142.509995</td>\n",
       "      <td>143.160004</td>\n",
       "      <td>2600400</td>\n",
       "      <td>5.047241</td>\n",
       "      <td>30.446271</td>\n",
       "    </tr>\n",
       "    <tr>\n",
       "      <th>2025-04-15</th>\n",
       "      <td>145.610001</td>\n",
       "      <td>146.289993</td>\n",
       "      <td>144.490005</td>\n",
       "      <td>145.660004</td>\n",
       "      <td>2277500</td>\n",
       "      <td>5.051056</td>\n",
       "      <td>30.469289</td>\n",
       "    </tr>\n",
       "    <tr>\n",
       "      <th>2025-04-16</th>\n",
       "      <td>142.970001</td>\n",
       "      <td>145.779999</td>\n",
       "      <td>142.690002</td>\n",
       "      <td>145.490005</td>\n",
       "      <td>2215800</td>\n",
       "      <td>4.959478</td>\n",
       "      <td>29.916862</td>\n",
       "    </tr>\n",
       "    <tr>\n",
       "      <th>2025-04-17</th>\n",
       "      <td>145.610001</td>\n",
       "      <td>146.089996</td>\n",
       "      <td>142.970001</td>\n",
       "      <td>143.270004</td>\n",
       "      <td>1761900</td>\n",
       "      <td>5.051056</td>\n",
       "      <td>30.469289</td>\n",
       "    </tr>\n",
       "    <tr>\n",
       "      <th>2025-04-21</th>\n",
       "      <td>141.929993</td>\n",
       "      <td>145.020004</td>\n",
       "      <td>141.039993</td>\n",
       "      <td>145.020004</td>\n",
       "      <td>2712300</td>\n",
       "      <td>4.923401</td>\n",
       "      <td>29.699238</td>\n",
       "    </tr>\n",
       "  </tbody>\n",
       "</table>\n",
       "</div>"
      ],
      "text/plain": [
       "Price            Close        High         Low        Open   Volume P/B ratio  \\\n",
       "Ticker              EA          EA          EA          EA       EA             \n",
       "Date                                                                            \n",
       "2025-04-14  145.500000  146.210007  142.509995  143.160004  2600400  5.047241   \n",
       "2025-04-15  145.610001  146.289993  144.490005  145.660004  2277500  5.051056   \n",
       "2025-04-16  142.970001  145.779999  142.690002  145.490005  2215800  4.959478   \n",
       "2025-04-17  145.610001  146.089996  142.970001  143.270004  1761900  5.051056   \n",
       "2025-04-21  141.929993  145.020004  141.039993  145.020004  2712300  4.923401   \n",
       "\n",
       "Price       P/E ratio  \n",
       "Ticker                 \n",
       "Date                   \n",
       "2025-04-14  30.446271  \n",
       "2025-04-15  30.469289  \n",
       "2025-04-16  29.916862  \n",
       "2025-04-17  30.469289  \n",
       "2025-04-21  29.699238  "
      ]
     },
     "execution_count": 18,
     "metadata": {},
     "output_type": "execute_result"
    }
   ],
   "source": [
    "ea_data.tail(5)"
   ]
  },
  {
   "cell_type": "markdown",
   "id": "5b2e48f4-d58a-450e-953a-5be3f81afa32",
   "metadata": {},
   "source": [
    "The stock appears to be undervalued based on conducted DCF analysis."
   ]
  },
  {
   "cell_type": "markdown",
   "id": "60e070ed-bdd3-4c43-8c8a-f3ee71c18400",
   "metadata": {},
   "source": [
    "# ROE, CAGR and Debt-To-Equity for assesing growth"
   ]
  },
  {
   "cell_type": "markdown",
   "id": "766acb5c-692b-4ba6-9590-77727976e34d",
   "metadata": {},
   "source": [
    "#### Return on Equity"
   ]
  },
  {
   "cell_type": "code",
   "execution_count": 22,
   "id": "0cdbe92b-0815-4847-93b3-4c1a03d384e2",
   "metadata": {
    "scrolled": true
   },
   "outputs": [
    {
     "name": "stdout",
     "output_type": "stream",
     "text": [
      "Return on Equity (ROE):\n",
      "0.16943963796086783\n"
     ]
    }
   ],
   "source": [
    "net_income = statement.loc['Net Income']  # Net income from the income statement\n",
    "total_equity = balance_sheet.loc[\"Stockholders Equity\"]  # Total equity from the balance sheet\n",
    "\n",
    "# Calculate ROE for each year\n",
    "roe = net_income / total_equity\n",
    "print(\"Return on Equity (ROE):\")\n",
    "print(roe.iloc[0])"
   ]
  },
  {
   "cell_type": "markdown",
   "id": "e635f226-9058-4cdf-9e6a-91632306adf9",
   "metadata": {},
   "source": [
    "#### Compund Annual Growth Rate"
   ]
  },
  {
   "cell_type": "code",
   "execution_count": 24,
   "id": "c40ad12a-659c-4314-a513-8ad24e0f788e",
   "metadata": {},
   "outputs": [
    {
     "name": "stdout",
     "output_type": "stream",
     "text": [
      "Compound Annual Growth Rate: 0.061547729348185864\n"
     ]
    }
   ],
   "source": [
    "start_price = ea_data['Close'].iloc[0]\n",
    "end_price = ea_data['Close'].iloc[-1]\n",
    "num_years = 4\n",
    "\n",
    "cagr = (end_price / start_price) ** (1 / num_years) - 1\n",
    "print(\"Compound Annual Growth Rate: \" + str(cagr.iloc[0]))"
   ]
  },
  {
   "cell_type": "markdown",
   "id": "5e20fa13-2d54-4d00-b516-e60bd4275865",
   "metadata": {},
   "source": [
    "#### Debt-to-Equity Ratio"
   ]
  },
  {
   "cell_type": "code",
   "execution_count": 26,
   "id": "db61c6a0-22a7-47da-a650-223131c179bb",
   "metadata": {
    "scrolled": true
   },
   "outputs": [
    {
     "name": "stdout",
     "output_type": "stream",
     "text": [
      "Debt-to-Equity Ratio: 0.2592839078929855\n"
     ]
    }
   ],
   "source": [
    "total_debt = balance_sheet.loc[\"Total Debt\"]\n",
    "total_equity = balance_sheet.loc[\"Stockholders Equity\"]\n",
    "\n",
    "debt_to_equity_ratio = total_debt / total_equity\n",
    "\n",
    "# Print the result\n",
    "print(\"Debt-to-Equity Ratio: \" + str(debt_to_equity_ratio.iloc[0]))"
   ]
  },
  {
   "cell_type": "markdown",
   "id": "e1181363-2ddc-4d3c-9364-fb304e64a66e",
   "metadata": {},
   "source": [
    "EA is in a good position considering provided metrics and is showing solid signs of growth  with strong financial health and a stable growth trajectory."
   ]
  },
  {
   "cell_type": "markdown",
   "id": "406c3699-f702-4e33-a8a9-fa58b8640ffc",
   "metadata": {},
   "source": [
    "# Getting Betas for risk assesment"
   ]
  },
  {
   "cell_type": "markdown",
   "id": "b7c82000-6196-47f1-a073-3e4e907b375f",
   "metadata": {},
   "source": [
    "#### Loading Market Data"
   ]
  },
  {
   "cell_type": "code",
   "execution_count": 30,
   "id": "b0ac3372-e0dc-482a-bd0e-74a2aed715a1",
   "metadata": {},
   "outputs": [
    {
     "name": "stderr",
     "output_type": "stream",
     "text": [
      "[*********************100%***********************]  1 of 1 completed\n"
     ]
    }
   ],
   "source": [
    "market = \"^GSPC\" #S&P 500\n",
    "market_data = yf.download(market, start='2020-04-22', end='2025-04-22')\n",
    "ea_close = ea_data['Close']\n",
    "market_close = market_data['Close']"
   ]
  },
  {
   "cell_type": "markdown",
   "id": "eb37d06c-e516-49eb-a7f3-35c4b5f3e2e5",
   "metadata": {},
   "source": [
    "#### Getting Betas"
   ]
  },
  {
   "cell_type": "code",
   "execution_count": 32,
   "id": "feafa4fe-320c-43cd-89c3-a331105542a1",
   "metadata": {},
   "outputs": [],
   "source": [
    "returns = pd.DataFrame({\n",
    "    \"EA\": ea_close['EA'].pct_change(),\n",
    "    \"Market\": market_close['^GSPC'].pct_change()\n",
    "})"
   ]
  },
  {
   "cell_type": "code",
   "execution_count": 33,
   "id": "33915e51-b0f2-4a14-a0b4-216b551bf2b7",
   "metadata": {},
   "outputs": [
    {
     "name": "stdout",
     "output_type": "stream",
     "text": [
      "EA Calculated Beta: 0.5345275630333721\n"
     ]
    }
   ],
   "source": [
    "covariance = np.cov(returns['EA'][1::], returns['Market'][1::])[0][1]\n",
    "market_variance = np.var(returns['Market'][1::])\n",
    "beta_EA = covariance / market_variance\n",
    "print('EA Calculated Beta: ' + str(beta_EA))"
   ]
  },
  {
   "cell_type": "markdown",
   "id": "c58a3751-88b1-4811-8473-3b88d7718e33",
   "metadata": {},
   "source": [
    "Note: Our beta is different (no big difference) compared to official beta that can be found on Yahoo Finance, which is probably because of the fact of different time dimensions since in our example we use only 5-year period"
   ]
  },
  {
   "cell_type": "markdown",
   "id": "b01e9b90-36b5-424f-b084-d4b9e73722cb",
   "metadata": {},
   "source": [
    "Besides that, Beta shows low systematic risk, which is attractive to conservative investors"
   ]
  },
  {
   "cell_type": "markdown",
   "id": "60ef660b-457c-440d-bb8d-4450d3303553",
   "metadata": {},
   "source": [
    "# Capital structure and the cost of capital assesment"
   ]
  },
  {
   "cell_type": "markdown",
   "id": "f724ebce-6f68-4be1-bf0e-622fd6985acd",
   "metadata": {},
   "source": [
    "Since we already calculated Debt to Equity and WACC we can use this parameters for evaluation "
   ]
  },
  {
   "cell_type": "code",
   "execution_count": 38,
   "id": "f9cc175b-5042-4be9-b29d-bb456bea2332",
   "metadata": {},
   "outputs": [
    {
     "name": "stdout",
     "output_type": "stream",
     "text": [
      "WACC: 0.08337401534692822\n",
      "Debt-to-Equity Ratio: 0.2592839078929855\n"
     ]
    }
   ],
   "source": [
    "print(\"WACC: \" + str(wacc))\n",
    "print(\"Debt-to-Equity Ratio: \" + str(debt_to_equity_ratio.iloc[0]))"
   ]
  },
  {
   "cell_type": "markdown",
   "id": "7f4ee3d3-38ea-40be-984d-9c7b4f6f771c",
   "metadata": {},
   "source": [
    "The cost of capital is moderate in magnitude, and this may reflect that the company is financially healthy with an equal mix of debt and equity.\n",
    "The Debt-to-Equity Ratio of 0.259 is quite low and indicates the company is more focused on equity financing, which could be viewed positively in terms of lower financial risk."
   ]
  },
  {
   "cell_type": "markdown",
   "id": "a8a62092-26ba-4b89-bd45-4b879e39807b",
   "metadata": {},
   "source": [
    "# Dividend policy"
   ]
  },
  {
   "cell_type": "code",
   "execution_count": 41,
   "id": "3388e94c-12cc-468f-ae22-e897b2e615c1",
   "metadata": {},
   "outputs": [
    {
     "name": "stdout",
     "output_type": "stream",
     "text": [
      "Dividend payout ratio: 5.760670332547787e-10\n",
      "Dividend growth: 0.006920415224913497\n",
      "FCF: 2116000000.0\n"
     ]
    }
   ],
   "source": [
    "earnings = company.financials.loc['Net Income', '2024'] # Net income from the latest available year\n",
    "earnings = earnings.iloc[0]\n",
    "dividend = company.dividends.mean() * 4  # Data provided in quarters, therefore we need to multiply by 4\n",
    "dividend_payout_ratio = dividend / earnings \n",
    "\n",
    "dividend_history = company.dividends\n",
    "dividend_growth = dividend_history.pct_change().mean()  # Average growth rate of dividends\n",
    "    \n",
    "print(\"Dividend payout ratio: \" + str(dividend_payout_ratio))\n",
    "print(\"Dividend growth: \" + str(dividend_growth))\n",
    "print(\"FCF: \" + str(free_cash_flow)) #Since we calculated it previously\n",
    "    "
   ]
  },
  {
   "cell_type": "markdown",
   "id": "7aa793a6-f90c-426f-a851-8d98585bc850",
   "metadata": {},
   "source": [
    "Based on obtained parametrs: firm is most likely to be growth firm"
   ]
  },
  {
   "cell_type": "markdown",
   "id": "0795e903-0282-4ce3-ad3e-f4f8b78ed5b5",
   "metadata": {},
   "source": [
    "# Part 2. Paradox Interactive"
   ]
  },
  {
   "cell_type": "code",
   "execution_count": 44,
   "id": "8b157b97-74f5-4977-a678-4d19fbd442ee",
   "metadata": {},
   "outputs": [
    {
     "name": "stderr",
     "output_type": "stream",
     "text": [
      "[*********************100%***********************]  1 of 1 completed\n"
     ]
    },
    {
     "data": {
      "text/html": [
       "<div>\n",
       "<style scoped>\n",
       "    .dataframe tbody tr th:only-of-type {\n",
       "        vertical-align: middle;\n",
       "    }\n",
       "\n",
       "    .dataframe tbody tr th {\n",
       "        vertical-align: top;\n",
       "    }\n",
       "\n",
       "    .dataframe thead tr th {\n",
       "        text-align: left;\n",
       "    }\n",
       "\n",
       "    .dataframe thead tr:last-of-type th {\n",
       "        text-align: right;\n",
       "    }\n",
       "</style>\n",
       "<table border=\"1\" class=\"dataframe\">\n",
       "  <thead>\n",
       "    <tr>\n",
       "      <th>Price</th>\n",
       "      <th>Close</th>\n",
       "      <th>High</th>\n",
       "      <th>Low</th>\n",
       "      <th>Open</th>\n",
       "      <th>Volume</th>\n",
       "    </tr>\n",
       "    <tr>\n",
       "      <th>Ticker</th>\n",
       "      <th>ETA.F</th>\n",
       "      <th>ETA.F</th>\n",
       "      <th>ETA.F</th>\n",
       "      <th>ETA.F</th>\n",
       "      <th>ETA.F</th>\n",
       "    </tr>\n",
       "    <tr>\n",
       "      <th>Date</th>\n",
       "      <th></th>\n",
       "      <th></th>\n",
       "      <th></th>\n",
       "      <th></th>\n",
       "      <th></th>\n",
       "    </tr>\n",
       "  </thead>\n",
       "  <tbody>\n",
       "    <tr>\n",
       "      <th>2025-04-04</th>\n",
       "      <td>16.340000</td>\n",
       "      <td>16.340000</td>\n",
       "      <td>16.34</td>\n",
       "      <td>16.34</td>\n",
       "      <td>0</td>\n",
       "    </tr>\n",
       "    <tr>\n",
       "      <th>2025-04-07</th>\n",
       "      <td>15.540000</td>\n",
       "      <td>15.540000</td>\n",
       "      <td>15.12</td>\n",
       "      <td>15.12</td>\n",
       "      <td>20</td>\n",
       "    </tr>\n",
       "    <tr>\n",
       "      <th>2025-04-08</th>\n",
       "      <td>15.590000</td>\n",
       "      <td>15.590000</td>\n",
       "      <td>15.59</td>\n",
       "      <td>15.59</td>\n",
       "      <td>0</td>\n",
       "    </tr>\n",
       "    <tr>\n",
       "      <th>2025-04-09</th>\n",
       "      <td>15.180000</td>\n",
       "      <td>15.180000</td>\n",
       "      <td>15.18</td>\n",
       "      <td>15.18</td>\n",
       "      <td>0</td>\n",
       "    </tr>\n",
       "    <tr>\n",
       "      <th>2025-04-10</th>\n",
       "      <td>15.500000</td>\n",
       "      <td>15.520000</td>\n",
       "      <td>15.50</td>\n",
       "      <td>15.52</td>\n",
       "      <td>20</td>\n",
       "    </tr>\n",
       "    <tr>\n",
       "      <th>2025-04-11</th>\n",
       "      <td>15.560000</td>\n",
       "      <td>15.560000</td>\n",
       "      <td>15.56</td>\n",
       "      <td>15.56</td>\n",
       "      <td>0</td>\n",
       "    </tr>\n",
       "    <tr>\n",
       "      <th>2025-04-14</th>\n",
       "      <td>14.740000</td>\n",
       "      <td>14.740000</td>\n",
       "      <td>14.74</td>\n",
       "      <td>14.74</td>\n",
       "      <td>0</td>\n",
       "    </tr>\n",
       "    <tr>\n",
       "      <th>2025-04-15</th>\n",
       "      <td>15.950000</td>\n",
       "      <td>15.960000</td>\n",
       "      <td>15.17</td>\n",
       "      <td>15.17</td>\n",
       "      <td>620</td>\n",
       "    </tr>\n",
       "    <tr>\n",
       "      <th>2025-04-16</th>\n",
       "      <td>16.190001</td>\n",
       "      <td>16.190001</td>\n",
       "      <td>15.56</td>\n",
       "      <td>15.56</td>\n",
       "      <td>14</td>\n",
       "    </tr>\n",
       "    <tr>\n",
       "      <th>2025-04-17</th>\n",
       "      <td>15.660000</td>\n",
       "      <td>15.660000</td>\n",
       "      <td>15.66</td>\n",
       "      <td>15.66</td>\n",
       "      <td>0</td>\n",
       "    </tr>\n",
       "  </tbody>\n",
       "</table>\n",
       "</div>"
      ],
      "text/plain": [
       "Price           Close       High    Low   Open Volume\n",
       "Ticker          ETA.F      ETA.F  ETA.F  ETA.F  ETA.F\n",
       "Date                                                 \n",
       "2025-04-04  16.340000  16.340000  16.34  16.34      0\n",
       "2025-04-07  15.540000  15.540000  15.12  15.12     20\n",
       "2025-04-08  15.590000  15.590000  15.59  15.59      0\n",
       "2025-04-09  15.180000  15.180000  15.18  15.18      0\n",
       "2025-04-10  15.500000  15.520000  15.50  15.52     20\n",
       "2025-04-11  15.560000  15.560000  15.56  15.56      0\n",
       "2025-04-14  14.740000  14.740000  14.74  14.74      0\n",
       "2025-04-15  15.950000  15.960000  15.17  15.17    620\n",
       "2025-04-16  16.190001  16.190001  15.56  15.56     14\n",
       "2025-04-17  15.660000  15.660000  15.66  15.66      0"
      ]
     },
     "execution_count": 44,
     "metadata": {},
     "output_type": "execute_result"
    }
   ],
   "source": [
    "name = 'ETA.F'\n",
    "Par_stock = yf.download(name, start='2020-04-22', end='2025-04-22')\n",
    "\n",
    "company = yf.Ticker(name)\n",
    "balance_sheet = company.balance_sheet\n",
    "statement = company.financials\n",
    "\n",
    "Par_data = pd.DataFrame(Par_stock)\n",
    "Par_data.tail(10)"
   ]
  },
  {
   "cell_type": "markdown",
   "id": "5241c718-13de-45b3-8b66-c9e376951bc2",
   "metadata": {},
   "source": [
    "# P/E and P/B ratio calculation"
   ]
  },
  {
   "cell_type": "code",
   "execution_count": 46,
   "id": "1ccb65a1-bd26-4085-af82-1863f309d94a",
   "metadata": {},
   "outputs": [
    {
     "name": "stdout",
     "output_type": "stream",
     "text": [
      "P/E ratio for Paradox is: 2.829246213631926\n",
      "P/B ratio for Paradox is: 0.5684745067717\n"
     ]
    },
    {
     "data": {
      "text/html": [
       "<div>\n",
       "<style scoped>\n",
       "    .dataframe tbody tr th:only-of-type {\n",
       "        vertical-align: middle;\n",
       "    }\n",
       "\n",
       "    .dataframe tbody tr th {\n",
       "        vertical-align: top;\n",
       "    }\n",
       "\n",
       "    .dataframe thead tr th {\n",
       "        text-align: left;\n",
       "    }\n",
       "\n",
       "    .dataframe thead tr:last-of-type th {\n",
       "        text-align: right;\n",
       "    }\n",
       "</style>\n",
       "<table border=\"1\" class=\"dataframe\">\n",
       "  <thead>\n",
       "    <tr>\n",
       "      <th>Price</th>\n",
       "      <th>Close</th>\n",
       "      <th>High</th>\n",
       "      <th>Low</th>\n",
       "      <th>Open</th>\n",
       "      <th>Volume</th>\n",
       "      <th>P/B ratio</th>\n",
       "      <th>P/E ratio</th>\n",
       "    </tr>\n",
       "    <tr>\n",
       "      <th>Ticker</th>\n",
       "      <th>ETA.F</th>\n",
       "      <th>ETA.F</th>\n",
       "      <th>ETA.F</th>\n",
       "      <th>ETA.F</th>\n",
       "      <th>ETA.F</th>\n",
       "      <th></th>\n",
       "      <th></th>\n",
       "    </tr>\n",
       "    <tr>\n",
       "      <th>Date</th>\n",
       "      <th></th>\n",
       "      <th></th>\n",
       "      <th></th>\n",
       "      <th></th>\n",
       "      <th></th>\n",
       "      <th></th>\n",
       "      <th></th>\n",
       "    </tr>\n",
       "  </thead>\n",
       "  <tbody>\n",
       "    <tr>\n",
       "      <th>2025-04-11</th>\n",
       "      <td>15.560000</td>\n",
       "      <td>15.560000</td>\n",
       "      <td>15.56</td>\n",
       "      <td>15.56</td>\n",
       "      <td>0</td>\n",
       "      <td>0.564844</td>\n",
       "      <td>2.811180</td>\n",
       "    </tr>\n",
       "    <tr>\n",
       "      <th>2025-04-14</th>\n",
       "      <td>14.740000</td>\n",
       "      <td>14.740000</td>\n",
       "      <td>14.74</td>\n",
       "      <td>14.74</td>\n",
       "      <td>0</td>\n",
       "      <td>0.535078</td>\n",
       "      <td>2.663032</td>\n",
       "    </tr>\n",
       "    <tr>\n",
       "      <th>2025-04-15</th>\n",
       "      <td>15.950000</td>\n",
       "      <td>15.960000</td>\n",
       "      <td>15.17</td>\n",
       "      <td>15.17</td>\n",
       "      <td>620</td>\n",
       "      <td>0.579002</td>\n",
       "      <td>2.881640</td>\n",
       "    </tr>\n",
       "    <tr>\n",
       "      <th>2025-04-16</th>\n",
       "      <td>16.190001</td>\n",
       "      <td>16.190001</td>\n",
       "      <td>15.56</td>\n",
       "      <td>15.56</td>\n",
       "      <td>14</td>\n",
       "      <td>0.587714</td>\n",
       "      <td>2.925000</td>\n",
       "    </tr>\n",
       "    <tr>\n",
       "      <th>2025-04-17</th>\n",
       "      <td>15.660000</td>\n",
       "      <td>15.660000</td>\n",
       "      <td>15.66</td>\n",
       "      <td>15.66</td>\n",
       "      <td>0</td>\n",
       "      <td>0.568475</td>\n",
       "      <td>2.829246</td>\n",
       "    </tr>\n",
       "  </tbody>\n",
       "</table>\n",
       "</div>"
      ],
      "text/plain": [
       "Price           Close       High    Low   Open Volume P/B ratio P/E ratio\n",
       "Ticker          ETA.F      ETA.F  ETA.F  ETA.F  ETA.F                    \n",
       "Date                                                                     \n",
       "2025-04-11  15.560000  15.560000  15.56  15.56      0  0.564844  2.811180\n",
       "2025-04-14  14.740000  14.740000  14.74  14.74      0  0.535078  2.663032\n",
       "2025-04-15  15.950000  15.960000  15.17  15.17    620  0.579002  2.881640\n",
       "2025-04-16  16.190001  16.190001  15.56  15.56     14  0.587714  2.925000\n",
       "2025-04-17  15.660000  15.660000  15.66  15.66      0  0.568475  2.829246"
      ]
     },
     "execution_count": 46,
     "metadata": {},
     "output_type": "execute_result"
    }
   ],
   "source": [
    "net_income = statement.loc['Net Income'].iloc[0]\n",
    "share = balance_sheet.loc['Share Issued'].iloc[0]\n",
    "\n",
    "earning_per_share = net_income / share\n",
    "price_per_share = Par_stock['Close']\n",
    "\n",
    "P_E_ratio = price_per_share / earning_per_share\n",
    "\n",
    "book_value = balance_sheet.loc['Total Assets'].iloc[0] - balance_sheet.loc['Total Liabilities Net Minority Interest'].iloc[0]\n",
    "shares_outstanding = company.info['sharesOutstanding']\n",
    "book_value_per_share = book_value / shares_outstanding\n",
    "\n",
    "P_B_ratio = price_per_share / book_value_per_share\n",
    "\n",
    "Par_data['P/B ratio'] = P_B_ratio['ETA.F']\n",
    "Par_data['P/E ratio'] = P_E_ratio['ETA.F']\n",
    "\n",
    "\n",
    "print('P/E ratio for Paradox is: ' + str(P_E_ratio['ETA.F'].iloc[-1]))\n",
    "print('P/B ratio for Paradox is: ' + str(P_B_ratio['ETA.F'].iloc[-1]))\n",
    "\n",
    "Par_data.tail(5)"
   ]
  },
  {
   "cell_type": "markdown",
   "id": "bd1fc638-d4d9-46d7-96b9-e0afe656c810",
   "metadata": {},
   "source": [
    "#### Comparison with historical observations"
   ]
  },
  {
   "cell_type": "code",
   "execution_count": 48,
   "id": "de968745-1f6a-4dc2-9d3d-1461d9308b32",
   "metadata": {
    "scrolled": true
   },
   "outputs": [
    {
     "name": "stdout",
     "output_type": "stream",
     "text": [
      "Historical mean: 2.4907845524216974\n",
      "P/E ratio: 2.829246213631926\n"
     ]
    }
   ],
   "source": [
    "print('Historical mean: ' + str(P_E_ratio['ETA.F'][0::].mean()))\n",
    "print('P/E ratio: ' + str(P_E_ratio['ETA.F'].iloc[-1]))"
   ]
  },
  {
   "cell_type": "markdown",
   "id": "06af0e5c-c59b-4b66-a179-4fed60373ba6",
   "metadata": {},
   "source": [
    "~14 percentage difference, slightly overvalued"
   ]
  },
  {
   "cell_type": "code",
   "execution_count": 50,
   "id": "ba89b3d0-61b6-4fc7-8637-3f9be1843cb5",
   "metadata": {},
   "outputs": [
    {
     "name": "stdout",
     "output_type": "stream",
     "text": [
      "Historical mean: 0.5004681151785765\n",
      "P/B ratio: 0.5684745067717\n"
     ]
    }
   ],
   "source": [
    "print('Historical mean: ' + str(P_B_ratio['ETA.F'][0::].mean()))\n",
    "print('P/B ratio: ' + str(P_B_ratio['ETA.F'].iloc[-1]))"
   ]
  },
  {
   "cell_type": "markdown",
   "id": "5bb61cf7-5cfb-43dc-b2dd-d1574a97b416",
   "metadata": {},
   "source": [
    "Same difference, therefore according to P/B company is also slightly overvalued"
   ]
  },
  {
   "cell_type": "markdown",
   "id": "7d24f598-6b65-4f62-be7f-07bfbf8bb980",
   "metadata": {},
   "source": [
    "# Discounted Cash Flow"
   ]
  },
  {
   "cell_type": "markdown",
   "id": "59d61cbe-a0e9-4bb1-b3bc-5168a5989f87",
   "metadata": {},
   "source": [
    "#### Getting Free Cash Flow"
   ]
  },
  {
   "cell_type": "code",
   "execution_count": 54,
   "id": "a3b21285-4ae1-4a26-a34c-318707f8ba4a",
   "metadata": {},
   "outputs": [],
   "source": [
    "cash_flow = company.cashflow\n",
    "operating_cash_flow = cash_flow.loc['Operating Cash Flow', '2024']\n",
    "operating_cash_flow = operating_cash_flow.iloc[0]\n",
    "capital_expenditures = cash_flow.loc['Capital Expenditure', '2024']\n",
    "capital_expenditures = capital_expenditures.iloc[0]\n",
    "free_cash_flow = operating_cash_flow + capital_expenditures  \n",
    "shares_outstanding = company.info['sharesOutstanding']"
   ]
  },
  {
   "cell_type": "code",
   "execution_count": 55,
   "id": "344b8b64-f4b6-4f99-b28b-c7bd81f3fb66",
   "metadata": {},
   "outputs": [],
   "source": [
    "#Assumptions\n",
    "risk_free_rate = 0.049 # US Treasury Yield https://home.treasury.gov/resource-center/data-chart-center/interest-rates/TextView?type=daily_treasury_yield_curve&field_tdr_date_value=2025\n",
    "market_return = 0.08 # Long-term average market return (S&P 500)\n",
    "tax_rate = 0.206 #Sweden Corporate Tax Rate\n",
    "\n",
    "#Getting cost of debt\n",
    "interest_expense = statement.loc[\"Interest Expense\"]\n",
    "total_debt = balance_sheet.loc[\"Total Debt\"]\n",
    "after_tax_cost_of_debt = interest_expense / total_debt * (1 - tax_rate)\n",
    "cost_of_debt = after_tax_cost_of_debt.iloc[0]\n",
    "\n",
    "equity_risk_premium = market_return - risk_free_rate\n",
    "beta = company.info.get(\"beta\", 1.0)\n",
    "cost_of_equity = risk_free_rate + beta * equity_risk_premium\n",
    "\n",
    "market_cap = company.info.get(\"marketCap\", 0)\n",
    "total_debt = company.info.get(\"totalDebt\", 0)\n",
    "cash = company.info.get(\"totalCash\", 0)\n",
    "enterprise_value = market_cap + total_debt - cash\n",
    "\n",
    "E = market_cap\n",
    "D = total_debt\n",
    "V = E + D\n",
    "debt_weight = D / V\n",
    "equity_weight = E / V\n",
    "\n",
    "\n",
    "wacc = (equity_weight * cost_of_equity) + (debt_weight * cost_of_debt * (1 - tax_rate))"
   ]
  },
  {
   "cell_type": "markdown",
   "id": "a604d215-0e22-4aaf-917c-0e9d3697cab0",
   "metadata": {},
   "source": [
    "#### DCF"
   ]
  },
  {
   "cell_type": "code",
   "execution_count": 57,
   "id": "fda7428d-2d47-4a42-8aac-0633b2b495b3",
   "metadata": {},
   "outputs": [
    {
     "name": "stdout",
     "output_type": "stream",
     "text": [
      "Total DCF: 16306053131.410225\n",
      "DCF per share: 154.37975754722197\n"
     ]
    }
   ],
   "source": [
    "discount_rate = wacc  \n",
    "growth_rate = 0.02 #No public data found, therefore we will use standard conservative estimate  \n",
    "years = 5  \n",
    "\n",
    "future_cash_flows = []\n",
    "for year in range(1, years + 1):\n",
    "    future_cash_flow_value = free_cash_flow * ((1 + growth_rate) ** year)\n",
    "    future_cash_flows.append(future_cash_flow_value)\n",
    "    \n",
    "dcf_values = []  \n",
    "for year, fcf in enumerate(future_cash_flows, start=1):\n",
    "    dcf_value = fcf / (1 + discount_rate) ** year\n",
    "    dcf_values.append(dcf_value)\n",
    "    \n",
    "terminal_value = future_cash_flows[-1] * (1 + growth_rate) / (discount_rate - growth_rate)\n",
    "discounted_terminal_value = terminal_value / (1 + discount_rate) ** years\n",
    "total_dcf = sum(dcf_values) + discounted_terminal_value\n",
    "\n",
    "# DCF per share\n",
    "dcf_per_share = total_dcf / shares_outstanding\n",
    "\n",
    "# Output the results\n",
    "print('Total DCF: ' + str(total_dcf))\n",
    "print('DCF per share: ' + str(dcf_per_share))"
   ]
  },
  {
   "cell_type": "code",
   "execution_count": 58,
   "id": "b46433bd-e528-44a9-85b3-5753f9365811",
   "metadata": {},
   "outputs": [
    {
     "data": {
      "text/html": [
       "<div>\n",
       "<style scoped>\n",
       "    .dataframe tbody tr th:only-of-type {\n",
       "        vertical-align: middle;\n",
       "    }\n",
       "\n",
       "    .dataframe tbody tr th {\n",
       "        vertical-align: top;\n",
       "    }\n",
       "\n",
       "    .dataframe thead tr th {\n",
       "        text-align: left;\n",
       "    }\n",
       "\n",
       "    .dataframe thead tr:last-of-type th {\n",
       "        text-align: right;\n",
       "    }\n",
       "</style>\n",
       "<table border=\"1\" class=\"dataframe\">\n",
       "  <thead>\n",
       "    <tr>\n",
       "      <th>Price</th>\n",
       "      <th>Close</th>\n",
       "      <th>High</th>\n",
       "      <th>Low</th>\n",
       "      <th>Open</th>\n",
       "      <th>Volume</th>\n",
       "      <th>P/B ratio</th>\n",
       "      <th>P/E ratio</th>\n",
       "    </tr>\n",
       "    <tr>\n",
       "      <th>Ticker</th>\n",
       "      <th>ETA.F</th>\n",
       "      <th>ETA.F</th>\n",
       "      <th>ETA.F</th>\n",
       "      <th>ETA.F</th>\n",
       "      <th>ETA.F</th>\n",
       "      <th></th>\n",
       "      <th></th>\n",
       "    </tr>\n",
       "    <tr>\n",
       "      <th>Date</th>\n",
       "      <th></th>\n",
       "      <th></th>\n",
       "      <th></th>\n",
       "      <th></th>\n",
       "      <th></th>\n",
       "      <th></th>\n",
       "      <th></th>\n",
       "    </tr>\n",
       "  </thead>\n",
       "  <tbody>\n",
       "    <tr>\n",
       "      <th>2025-04-11</th>\n",
       "      <td>15.560000</td>\n",
       "      <td>15.560000</td>\n",
       "      <td>15.56</td>\n",
       "      <td>15.56</td>\n",
       "      <td>0</td>\n",
       "      <td>0.564844</td>\n",
       "      <td>2.811180</td>\n",
       "    </tr>\n",
       "    <tr>\n",
       "      <th>2025-04-14</th>\n",
       "      <td>14.740000</td>\n",
       "      <td>14.740000</td>\n",
       "      <td>14.74</td>\n",
       "      <td>14.74</td>\n",
       "      <td>0</td>\n",
       "      <td>0.535078</td>\n",
       "      <td>2.663032</td>\n",
       "    </tr>\n",
       "    <tr>\n",
       "      <th>2025-04-15</th>\n",
       "      <td>15.950000</td>\n",
       "      <td>15.960000</td>\n",
       "      <td>15.17</td>\n",
       "      <td>15.17</td>\n",
       "      <td>620</td>\n",
       "      <td>0.579002</td>\n",
       "      <td>2.881640</td>\n",
       "    </tr>\n",
       "    <tr>\n",
       "      <th>2025-04-16</th>\n",
       "      <td>16.190001</td>\n",
       "      <td>16.190001</td>\n",
       "      <td>15.56</td>\n",
       "      <td>15.56</td>\n",
       "      <td>14</td>\n",
       "      <td>0.587714</td>\n",
       "      <td>2.925000</td>\n",
       "    </tr>\n",
       "    <tr>\n",
       "      <th>2025-04-17</th>\n",
       "      <td>15.660000</td>\n",
       "      <td>15.660000</td>\n",
       "      <td>15.66</td>\n",
       "      <td>15.66</td>\n",
       "      <td>0</td>\n",
       "      <td>0.568475</td>\n",
       "      <td>2.829246</td>\n",
       "    </tr>\n",
       "  </tbody>\n",
       "</table>\n",
       "</div>"
      ],
      "text/plain": [
       "Price           Close       High    Low   Open Volume P/B ratio P/E ratio\n",
       "Ticker          ETA.F      ETA.F  ETA.F  ETA.F  ETA.F                    \n",
       "Date                                                                     \n",
       "2025-04-11  15.560000  15.560000  15.56  15.56      0  0.564844  2.811180\n",
       "2025-04-14  14.740000  14.740000  14.74  14.74      0  0.535078  2.663032\n",
       "2025-04-15  15.950000  15.960000  15.17  15.17    620  0.579002  2.881640\n",
       "2025-04-16  16.190001  16.190001  15.56  15.56     14  0.587714  2.925000\n",
       "2025-04-17  15.660000  15.660000  15.66  15.66      0  0.568475  2.829246"
      ]
     },
     "execution_count": 58,
     "metadata": {},
     "output_type": "execute_result"
    }
   ],
   "source": [
    "Par_data.tail(5)"
   ]
  },
  {
   "cell_type": "markdown",
   "id": "d2b39579-d319-40f6-a709-94952ed92d4f",
   "metadata": {},
   "source": [
    "Stocks are heavily undervalued, if we choose to proceed with this model, it can be explained by the fact that Paradox is said to be very sucessful recently due to the series of successful releases. It is also ranked as High Growth company according to following article: https://finance.yahoo.com/news/high-growth-tech-stocks-europe-050800782.html"
   ]
  },
  {
   "cell_type": "markdown",
   "id": "f3d3c3b4-07ac-4f9b-9489-75598731fe18",
   "metadata": {},
   "source": [
    "# ROE, CAGR and Debt-To-Equity for assesing growth"
   ]
  },
  {
   "cell_type": "code",
   "execution_count": 61,
   "id": "d781533a-7087-4c35-b844-a9c9e68186fc",
   "metadata": {},
   "outputs": [
    {
     "name": "stdout",
     "output_type": "stream",
     "text": [
      "Return on Equity (ROE):\n",
      "0.2009279498494659\n"
     ]
    }
   ],
   "source": [
    "net_income = statement.loc['Net Income']  # Net income from the income statement\n",
    "total_equity = balance_sheet.loc[\"Stockholders Equity\"]  # Total equity from the balance sheet\n",
    "\n",
    "# Calculate ROE for each year\n",
    "roe = net_income / total_equity\n",
    "print(\"Return on Equity (ROE):\")\n",
    "print(roe.iloc[0])"
   ]
  },
  {
   "cell_type": "code",
   "execution_count": 62,
   "id": "05eed20e-852d-4664-8ea1-6283af6b8f29",
   "metadata": {},
   "outputs": [
    {
     "name": "stdout",
     "output_type": "stream",
     "text": [
      "Compound Annual Growth Rate: 0.09409253550520447\n"
     ]
    }
   ],
   "source": [
    "start_price = Par_data['Close'].iloc[0]\n",
    "end_price = Par_data['Close'].iloc[-1]\n",
    "num_years = 4\n",
    "\n",
    "cagr = (end_price / start_price) ** (1 / num_years) - 1\n",
    "print(\"Compound Annual Growth Rate: \" + str(cagr.iloc[0]))"
   ]
  },
  {
   "cell_type": "code",
   "execution_count": 63,
   "id": "a333b1e3-aba0-4da6-974a-d62b6fe709fe",
   "metadata": {
    "scrolled": true
   },
   "outputs": [
    {
     "name": "stdout",
     "output_type": "stream",
     "text": [
      "Debt-to-Equity Ratio: 0.022265984795369873\n"
     ]
    }
   ],
   "source": [
    "total_debt = balance_sheet.loc[\"Total Debt\"]\n",
    "total_equity = balance_sheet.loc[\"Stockholders Equity\"]\n",
    "\n",
    "debt_to_equity_ratio = total_debt / total_equity\n",
    "\n",
    "# Print the result\n",
    "print(\"Debt-to-Equity Ratio: \" + str(debt_to_equity_ratio.iloc[0]))"
   ]
  },
  {
   "cell_type": "markdown",
   "id": "5a42342f-b11a-4c9b-9b11-a5b3d5f9c08e",
   "metadata": {},
   "source": [
    "In this section we can observe high growth potential not based on debts, making firm very appealing in terms of growth"
   ]
  },
  {
   "cell_type": "markdown",
   "id": "040be193-3a1e-446e-ab25-ab3b838ab352",
   "metadata": {},
   "source": [
    "# Getting Betas for risk assesment"
   ]
  },
  {
   "cell_type": "markdown",
   "id": "a8094af9-df50-44c1-80e4-f0e1e65589db",
   "metadata": {},
   "source": [
    "#### Loading Market Data"
   ]
  },
  {
   "cell_type": "code",
   "execution_count": 66,
   "id": "e93e02c5-cab3-4bdf-89b0-c5c2a8ce9219",
   "metadata": {},
   "outputs": [
    {
     "name": "stderr",
     "output_type": "stream",
     "text": [
      "[*********************100%***********************]  1 of 1 completed\n"
     ]
    }
   ],
   "source": [
    "market = \"^GSPC\" #S&P 500\n",
    "market_data = yf.download(market, start='2020-04-22', end='2025-04-22')\n",
    "Par_close = Par_data['Close']\n",
    "market_close = market_data['Close']"
   ]
  },
  {
   "cell_type": "markdown",
   "id": "d49b565a-ae45-40da-a4dc-0803bd69664a",
   "metadata": {},
   "source": [
    "#### Getting Betas"
   ]
  },
  {
   "cell_type": "code",
   "execution_count": 68,
   "id": "b306c606-5020-414f-8656-0891e4eff6c2",
   "metadata": {},
   "outputs": [],
   "source": [
    "returns = pd.DataFrame({\n",
    "    \"Paradox\": Par_close['ETA.F'].pct_change(),\n",
    "    \"Market\": market_close['^GSPC'].pct_change()\n",
    "})"
   ]
  },
  {
   "cell_type": "code",
   "execution_count": 69,
   "id": "9204ff5d-c688-41d9-87e2-b34d6a36f58b",
   "metadata": {},
   "outputs": [
    {
     "name": "stdout",
     "output_type": "stream",
     "text": [
      "Paradox Calculated Beta: 0.1419917840637029\n"
     ]
    }
   ],
   "source": [
    "returns = returns.dropna()\n",
    "covariance = np.cov(returns['Paradox'][1::], returns['Market'][1::])[0][1]\n",
    "market_variance = np.var(returns['Market'][1::])\n",
    "beta_Par = covariance / market_variance\n",
    "print('Paradox Calculated Beta: ' + str(beta_Par))"
   ]
  },
  {
   "cell_type": "markdown",
   "id": "a3f17188-62c6-42b4-95e6-25681e59d0ed",
   "metadata": {},
   "source": [
    "Here Beta (no big difference as well) is also different but data contained missing values and it also has different time frame"
   ]
  },
  {
   "cell_type": "markdown",
   "id": "baa53ade-1044-47bd-9aa8-90fc039415fa",
   "metadata": {},
   "source": [
    "What we can see here is that Beta is quite low, meaning now influence from the general market, once again good for conservative investors due to low risk"
   ]
  },
  {
   "cell_type": "markdown",
   "id": "b6f12cf1-9e34-4546-8972-c9007f48ec88",
   "metadata": {},
   "source": [
    "# Capital structure and the cost of capital assesment"
   ]
  },
  {
   "cell_type": "code",
   "execution_count": 72,
   "id": "10244621-92d0-46dc-a8e1-09d9c5fe1ecb",
   "metadata": {
    "scrolled": true
   },
   "outputs": [
    {
     "name": "stdout",
     "output_type": "stream",
     "text": [
      "WACC: 0.05251841483201042\n",
      "Debt-to-Equity Ratio: 0.022265984795369873\n"
     ]
    }
   ],
   "source": [
    "print(\"WACC: \" + str(wacc))\n",
    "print(\"Debt-to-Equity Ratio: \" + str(debt_to_equity_ratio.iloc[0]))"
   ]
  },
  {
   "cell_type": "markdown",
   "id": "3efcbed4-9d95-4f55-84b0-a2e2c05b35b2",
   "metadata": {},
   "source": [
    "Low-risk capital structure based on DtE and a moderate cost of capital according to WACC, indicating stability but with not high return on equity"
   ]
  },
  {
   "cell_type": "markdown",
   "id": "4b2e8af4-101b-4617-a2af-75aa35e5a754",
   "metadata": {},
   "source": [
    "# Dividend policy"
   ]
  },
  {
   "cell_type": "code",
   "execution_count": 74,
   "id": "5767f0f3-7d22-4e59-86eb-db7c156bf26a",
   "metadata": {},
   "outputs": [
    {
     "name": "stdout",
     "output_type": "stream",
     "text": [
      "Dividend payout ratio: 8.555354858132009e-10\n",
      "Dividend growth: 0.21428571428571433\n",
      "FCF: 519850000.0\n"
     ]
    }
   ],
   "source": [
    "earnings = company.financials.loc['Net Income', '2024'] # Net income from the latest available year\n",
    "earnings = earnings.iloc[0]\n",
    "dividend = company.dividends.mean() * 4  # Data provided in quarters, therefore we need to multiply by 4\n",
    "dividend_payout_ratio = dividend / earnings \n",
    "\n",
    "dividend_history = company.dividends\n",
    "dividend_growth = dividend_history.pct_change().mean()  # Average growth rate of dividends\n",
    "    \n",
    "print(\"Dividend payout ratio: \" + str(dividend_payout_ratio))\n",
    "print(\"Dividend growth: \" + str(dividend_growth))\n",
    "print(\"FCF: \" + str(free_cash_flow)) #Since we calculated it previously\n",
    "    "
   ]
  },
  {
   "cell_type": "markdown",
   "id": "c17de74b-cda5-40a6-8f4c-b647e8fc914a",
   "metadata": {},
   "source": [
    "Paradox appears to be growth firm as well"
   ]
  },
  {
   "cell_type": "markdown",
   "id": "7ce16c72-5ea6-410a-9ff0-7b42d416b01c",
   "metadata": {},
   "source": [
    "# Part 3. Portfolio Analysis"
   ]
  },
  {
   "cell_type": "code",
   "execution_count": 183,
   "id": "53f895fd-e2e2-4acc-a464-960938bfd9a0",
   "metadata": {},
   "outputs": [
    {
     "name": "stderr",
     "output_type": "stream",
     "text": [
      "[*********************100%***********************]  2 of 2 completed\n",
      "C:\\Users\\bogda\\AppData\\Local\\Temp\\ipykernel_6064\\1394305715.py:6: FutureWarning: The default fill_method='pad' in DataFrame.pct_change is deprecated and will be removed in a future version. Either fill in any non-leading NA values prior to calling pct_change or specify 'fill_method=None' to not fill NA values.\n",
      "  returns = df.pct_change()\n"
     ]
    },
    {
     "data": {
      "image/png": "[encoded data removed]",
      "text/plain": [
       "<Figure size 1400x900 with 1 Axes>"
      ]
     },
     "metadata": {},
     "output_type": "display_data"
    }
   ],
   "source": [
    "import matplotlib.pyplot as plt\n",
    "\n",
    "companies = ['EA', 'ETA.F']\n",
    "\n",
    "df = yf.download(companies, start='2020-04-22', end='2025-04-22')['Close']\n",
    "returns = df.pct_change()\n",
    "returns = returns.dropna()\n",
    "\n",
    "mean_returns = returns.mean()\n",
    "std_dev = returns.std()\n",
    "\n",
    "weights = np.array([0.5, 0.5])\n",
    "portfolio_return = np.dot(weights, mean_returns)\n",
    "portfolio_volatility = np.sqrt(np.dot(weights.T, np.dot(returns.cov(), weights)))\n",
    "\n",
    "plt.figure(figsize=(14, 9))\n",
    "cumulative_returns = (1 + returns).cumprod() - 1\n",
    "portfolio_cumulative_returns = (1 + np.dot(returns, weights)).cumprod() - 1\n",
    "\n",
    "plt.plot(cumulative_returns['EA'], label=\"EA\")\n",
    "plt.plot(cumulative_returns['ETA.F'], label=\"Paradox\")\n",
    "\n",
    "portfolio_df = pd.DataFrame({\n",
    "    'Date': cumulative_returns.index,  \n",
    "    'Portfolio': portfolio_cumulative_returns\n",
    "}) #This is just to get matching dates\n",
    "portfolio_df.set_index('Date', inplace=True)\n",
    "\n",
    "plt.plot(portfolio_df['Portfolio'], label=\"Portfolio\")\n",
    "\n",
    "plt.title('Cumulative Returns: Individual Stocks vs Portfolio')\n",
    "plt.xlabel('Date')\n",
    "plt.ylabel('Cumulative Return')\n",
    "plt.legend(loc='best')\n",
    "plt.grid(True)\n",
    "plt.show()"
   ]
  },
  {
   "cell_type": "code",
   "execution_count": 175,
   "id": "b0aa0115-0ac5-4644-b79a-71f859f29f6f",
   "metadata": {},
   "outputs": [
    {
     "name": "stdout",
     "output_type": "stream",
     "text": [
      "Expected Returns (Daily):\n",
      "Ticker\n",
      "EA       0.000308\n",
      "ETA.F    0.000774\n",
      "dtype: float64\n",
      "Volatilities (Daily Standard Deviation):\n",
      "Ticker\n",
      "EA       0.015538\n",
      "ETA.F    0.031663\n",
      "dtype: float64\n",
      "Portfolio Expected Return: 0.0005406732425613462\n",
      "Portfolio Volatility: 0.018130665872880338\n"
     ]
    }
   ],
   "source": [
    "print(\"Expected Returns (Daily):\")\n",
    "print(mean_returns)\n",
    "print(\"Volatilities (Daily Standard Deviation):\")\n",
    "print(std_dev)\n",
    "print(\"Portfolio Expected Return:\", portfolio_return)\n",
    "print(\"Portfolio Volatility:\", portfolio_volatility)"
   ]
  },
  {
   "cell_type": "markdown",
   "id": "37e9d852-c6f1-4ec0-86bd-01702570ad9a",
   "metadata": {},
   "source": [
    "We can observe that portfolio return strikes a good balance between both both companies. While diversification may be a good idea looking only at returns, we shouldnt forget about volatilities. Volatilies also suggest balance between companies, scoring a point for portfolio. Therefore, portfolio is optimal choice if investors value balance between volatility and return"
   ]
  },
  {
   "cell_type": "code",
   "execution_count": null,
   "id": "c684de1e-f370-4bf4-b45f-233482db2233",
   "metadata": {},
   "outputs": [],
   "source": []
  }
 ],
 "metadata": {
  "kernelspec": {
   "display_name": "Python [conda env:base] *",
   "language": "python",
   "name": "conda-base-py"
  },
  "language_info": {
   "codemirror_mode": {
    "name": "ipython",
    "version": 3
   },
   "file_extension": ".py",
   "mimetype": "text/x-python",
   "name": "python",
   "nbconvert_exporter": "python",
   "pygments_lexer": "ipython3",
   "version": "3.12.7"
  }
 },
 "nbformat": 4,
 "nbformat_minor": 5
}
